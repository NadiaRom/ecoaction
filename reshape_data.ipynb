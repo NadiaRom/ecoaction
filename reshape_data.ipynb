{
 "cells": [
  {
   "cell_type": "code",
   "execution_count": 2,
   "metadata": {},
   "outputs": [],
   "source": [
    "import pandas as pd, json, matplotlib.pyplot as plt\n",
    "%matplotlib inline"
   ]
  },
  {
   "cell_type": "code",
   "execution_count": 3,
   "metadata": {},
   "outputs": [
    {
     "name": "stdout",
     "output_type": "stream",
     "text": [
      "data_by_sphere.csv  scenario.csv\r\n"
     ]
    }
   ],
   "source": [
    "ls *.csv"
   ]
  },
  {
   "cell_type": "code",
   "execution_count": 24,
   "metadata": {},
   "outputs": [],
   "source": [
    "sc = pd.read_csv('scenario.csv')"
   ]
  },
  {
   "cell_type": "code",
   "execution_count": 15,
   "metadata": {},
   "outputs": [],
   "source": [
    "df = pd.read_csv('data_by_sphere.csv')"
   ]
  },
  {
   "cell_type": "code",
   "execution_count": 19,
   "metadata": {},
   "outputs": [],
   "source": [
    "df.sphere = df.sphere.apply(str.capitalize)\n",
    "df.to_csv('data_by_sphere.csv')"
   ]
  },
  {
   "cell_type": "code",
   "execution_count": 20,
   "metadata": {},
   "outputs": [],
   "source": [
    "measures = {\n",
    "    'ДОМОГОСПОДАРСТВА': [\n",
    "        'Термомодернізація житлових будинків',\n",
    "        'Модернізація систем енергозабезпечення об’єктів ЖКГ',\n",
    "        'Автоматизовані індивідуальні теплові пункти (ІТП)',\n",
    "        'Впровадження когенераційних систем для багатоповерхових будинків',\n",
    "        'Техніка А++, А+++',\n",
    "        '40-50% населення використовує сонячні панелі на дахах будинків',\n",
    "        'Опалення та гаряча вода за рахунок біопалива та відходів, централізованого ВДЕ-тепла та використання сонячних колекторів',\n",
    "    ],\n",
    "    'ТРАНСПОРТ': [\n",
    "        'Легкові авто: 90% електромобілі, 10% на біопаливі',\n",
    "        'Електроавтобуси та електропотяги',\n",
    "        'Авіаційний, водний, вантажний транспорт на біопаливі',\n",
    "    ],\n",
    "    'ПРОМИСЛОВІСТЬ': [\n",
    "        '88% - енергія з відновлюваних джерел та альтернативних видів палива',\n",
    "        'Електрифікація промисловості',\n",
    "        'Заміна енергоємного обладнання на нове та ефективне',\n",
    "        'Більші інвестиції з боку промислових виробників, зокрема електроенергетичної галузі',\n",
    "    ],\n",
    "    'СІЛЬСЬКЕ ГОСПОДАРСТВО': [\n",
    "        'Використання ВДЕ для виробництва електроенергії та тепла',\n",
    "        'СГ Транспорт на біопаливі',\n",
    "        'Вирощування енергетичних культур',\n",
    "        'Нові технології використання сільськогосподарських машин та механізмів',\n",
    "    ],\n",
    "    'СФЕРА ПОСЛУГ': [\n",
    "        'ВДЕ 88%',\n",
    "        'Заходи з енергоефективності та енергозаощадження',\n",
    "        'Термоізоляція приміщень',\n",
    "        'Використання високоефективних технічних приладів (А++, А+++)',\n",
    "    ]\n",
    "}"
   ]
  },
  {
   "cell_type": "code",
   "execution_count": 21,
   "metadata": {},
   "outputs": [],
   "source": [
    "measures = {k.capitalize(): v for k, v in measures.items()}"
   ]
  },
  {
   "cell_type": "code",
   "execution_count": 22,
   "metadata": {},
   "outputs": [],
   "source": [
    "with open('measures.json', 'w') as f:\n",
    "    json.dump(measures, f, allow_nan=False, ensure_ascii=False)"
   ]
  },
  {
   "cell_type": "code",
   "execution_count": null,
   "metadata": {},
   "outputs": [],
   "source": []
  }
 ],
 "metadata": {
  "kernelspec": {
   "display_name": "Python 3",
   "language": "python",
   "name": "python3"
  },
  "language_info": {
   "codemirror_mode": {
    "name": "ipython",
    "version": 3
   },
   "file_extension": ".py",
   "mimetype": "text/x-python",
   "name": "python",
   "nbconvert_exporter": "python",
   "pygments_lexer": "ipython3",
   "version": "3.6.7"
  },
  "toc": {
   "nav_menu": {},
   "number_sections": true,
   "sideBar": true,
   "skip_h1_title": false,
   "title_cell": "Table of Contents",
   "title_sidebar": "Contents",
   "toc_cell": false,
   "toc_position": {},
   "toc_section_display": true,
   "toc_window_display": false
  },
  "varInspector": {
   "cols": {
    "lenName": 16,
    "lenType": 16,
    "lenVar": 40
   },
   "kernels_config": {
    "python": {
     "delete_cmd_postfix": "",
     "delete_cmd_prefix": "del ",
     "library": "var_list.py",
     "varRefreshCmd": "print(var_dic_list())"
    },
    "r": {
     "delete_cmd_postfix": ") ",
     "delete_cmd_prefix": "rm(",
     "library": "var_list.r",
     "varRefreshCmd": "cat(var_dic_list()) "
    }
   },
   "types_to_exclude": [
    "module",
    "function",
    "builtin_function_or_method",
    "instance",
    "_Feature"
   ],
   "window_display": false
  }
 },
 "nbformat": 4,
 "nbformat_minor": 2
}
